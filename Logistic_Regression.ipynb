{
 "cells": [
  {
   "cell_type": "markdown",
   "metadata": {
    "ExecuteTime": {
     "end_time": "2020-01-02T22:01:55.744723Z",
     "start_time": "2020-01-02T22:01:55.739736Z"
    }
   },
   "source": [
    "<h2>Part 0: Introduction </h2>"
   ]
  },
  {
   "cell_type": "markdown",
   "metadata": {
    "ExecuteTime": {
     "end_time": "2020-01-02T15:21:23.603234Z",
     "start_time": "2020-01-02T15:21:23.588276Z"
    }
   },
   "source": [
    "In this tutorial, you will learn how to build a neural network for image classification using Logistic Regression from scratch"
   ]
  },
  {
   "cell_type": "code",
   "execution_count": 1,
   "metadata": {
    "ExecuteTime": {
     "end_time": "2020-01-03T15:00:31.708237Z",
     "start_time": "2020-01-03T15:00:31.436817Z"
    }
   },
   "outputs": [],
   "source": [
    "import os\n",
    "\n",
    "import matplotlib.pyplot as plt\n",
    "import numpy as np\n",
    "from PIL import Image\n",
    "import re\n",
    "\n",
    "%matplotlib inline"
   ]
  },
  {
   "cell_type": "markdown",
   "metadata": {
    "ExecuteTime": {
     "end_time": "2020-01-03T13:13:30.737946Z",
     "start_time": "2020-01-03T13:13:30.733924Z"
    }
   },
   "source": [
    "<h3> Part 1 Goal </h3>"
   ]
  },
  {
   "cell_type": "code",
   "execution_count": null,
   "metadata": {
    "ExecuteTime": {
     "end_time": "2020-01-03T13:20:17.282229Z",
     "start_time": "2020-01-03T13:20:17.276245Z"
    }
   },
   "outputs": [],
   "source": [
    "%%html\n",
    "<img src=\"images/image2vector_kiank.png\",width=500,height=300>"
   ]
  },
  {
   "cell_type": "markdown",
   "metadata": {
    "ExecuteTime": {
     "end_time": "2020-01-03T13:13:30.737946Z",
     "start_time": "2020-01-03T13:13:30.733924Z"
    }
   },
   "source": [
    "<h3> Part 2 Goal </h3>"
   ]
  },
  {
   "cell_type": "code",
   "execution_count": null,
   "metadata": {
    "ExecuteTime": {
     "end_time": "2020-01-03T13:20:17.290207Z",
     "start_time": "2020-01-03T13:20:17.283226Z"
    }
   },
   "outputs": [],
   "source": [
    "%%html\n",
    "<img src=\"images/LogReg_kiank.png\",width=500,height=300>"
   ]
  },
  {
   "cell_type": "markdown",
   "metadata": {
    "ExecuteTime": {
     "end_time": "2020-01-02T20:05:47.363718Z",
     "start_time": "2020-01-02T20:05:47.358732Z"
    }
   },
   "source": [
    "<h2> Part 1: Data Preprocess </h2>"
   ]
  },
  {
   "cell_type": "markdown",
   "metadata": {},
   "source": [
    "Create a folder with the following folders.\n",
    "<br>\n",
    "<br>\n",
    "birds: contains images of the birds\n",
    "<br>\n",
    "other_images: contains a mix of random images\n",
    "<br>\n",
    "train_set: contains the images that will be used for training\n",
    "<br>\n",
    "test_set: contains the images that will be used to test the training model"
   ]
  },
  {
   "cell_type": "markdown",
   "metadata": {
    "ExecuteTime": {
     "end_time": "2020-01-02T21:43:22.379959Z",
     "start_time": "2020-01-02T21:43:22.374958Z"
    }
   },
   "source": [
    "<p> Objective <p>\n",
    "<li> Load the Dataset </li>\n",
    "<li> Visualize the Dataset </li>\n",
    "<li> Get a general understanding of the dataset </li>\n",
    "<li> Flatten and Reshape </li>\n",
    "<li> Standarize the Data </li>"
   ]
  },
  {
   "cell_type": "markdown",
   "metadata": {
    "ExecuteTime": {
     "end_time": "2020-01-02T15:21:23.603234Z",
     "start_time": "2020-01-02T15:21:23.588276Z"
    }
   },
   "source": [
    "<p> Step 1: Load the Dataset <p>"
   ]
  },
  {
   "cell_type": "code",
   "execution_count": null,
   "metadata": {
    "ExecuteTime": {
     "end_time": "2020-01-03T13:20:17.295195Z",
     "start_time": "2020-01-03T13:20:17.291206Z"
    },
    "scrolled": true
   },
   "outputs": [],
   "source": [
    "def renamed_files(path, label):\n",
    "    \"\"\"\n",
    "    Rename files so they can contain \"bird\", this will be used to create the labels\n",
    "\n",
    "    Arguments:\n",
    "    path -- path where images are located that will be renamed\n",
    "    label -- the label the images will be get\n",
    "\n",
    "    Output:\n",
    "    files will be renamed in the same folder\n",
    "    \"\"\"\n",
    "    i = 0\n",
    "\n",
    "    for filename in os.listdir(path):\n",
    "        try:\n",
    "            f, extension = os.path.splitext(path+filename)\n",
    "            src = path+filename\n",
    "            dst = path+label+str(i)+extension\n",
    "            os.rename(src, dst)\n",
    "            i += 1\n",
    "\n",
    "        except Exception as e:\n",
    "            print(e)\n",
    "            i += 1\n",
    "\n",
    "\n",
    "path = \"C://Users//Maged Helmy//Desktop//youTube//data_1//Test_Set//\"\n",
    "label = \"bird\"\n",
    "\n",
    "renamed_files(path, label)"
   ]
  },
  {
   "cell_type": "code",
   "execution_count": null,
   "metadata": {
    "ExecuteTime": {
     "end_time": "2020-01-03T13:20:17.301178Z",
     "start_time": "2020-01-03T13:20:17.296191Z"
    },
    "code_folding": []
   },
   "outputs": [],
   "source": [
    "def resize_images(src_path, dst_path):\n",
    "    \"\"\"\n",
    "    # Resize images to 64 by 64 to speed up training process\n",
    "\n",
    "\n",
    "    Arguments:\n",
    "    src_path -- path where images are located that will be resized\n",
    "    dst_path -- new path where images are reized will be resized\n",
    "\n",
    "    Output:\n",
    "    images will be resized and save to dst_path provided    \n",
    "    \"\"\"\n",
    "\n",
    "    for filename in os.listdir(src_path):\n",
    "\n",
    "        try:\n",
    "            img = Image.open(src_path+filename)\n",
    "            new_img = img.resize((64, 64))\n",
    "            \n",
    "            if not os.path.exists(dst_path):\n",
    "                os.makedirs(dst_path)\n",
    "\n",
    "            new_img.save(dst_path+filename)\n",
    "            print('Resized and saved {} successfully.'.format(filename))\n",
    "\n",
    "        except Exception as e:\n",
    "            print(e)\n",
    "            continue\n",
    "\n",
    "\n",
    "src_path = \"C://Users//Maged Helmy//Desktop//youTube//data_1//birds//\"\n",
    "dst_path = \"C://Users//Maged Helmy//Desktop//youTube//data_1//training_set//\"\n",
    "\n",
    "resize_images(src_path, dst_path)"
   ]
  },
  {
   "cell_type": "code",
   "execution_count": 2,
   "metadata": {
    "ExecuteTime": {
     "end_time": "2020-01-03T15:00:40.201269Z",
     "start_time": "2020-01-03T15:00:40.051700Z"
    }
   },
   "outputs": [
    {
     "name": "stdout",
     "output_type": "stream",
     "text": [
      "X_train set :  [[[[ 19  19  19]\n",
      "   [ 16  16  16]\n",
      "   [ 14  14  14]\n",
      "   ...\n",
      "   [134 134 134]\n",
      "   [135 135 135]\n",
      "   [140 140 140]]\n",
      "\n",
      "  [[ 19  19  19]\n",
      "   [ 17  17  17]\n",
      "   [ 14  14  14]\n",
      "   ...\n",
      "   [137 137 137]\n",
      "   [138 138 138]\n",
      "   [142 142 142]]\n",
      "\n",
      "  [[ 20  20  20]\n",
      "   [ 18  18  18]\n",
      "   [ 16  16  16]\n",
      "   ...\n",
      "   [139 139 139]\n",
      "   [138 138 138]\n",
      "   [142 142 142]]\n",
      "\n",
      "  ...\n",
      "\n",
      "  [[ 10  10  10]\n",
      "   [ 10  10  10]\n",
      "   [ 10  10  10]\n",
      "   ...\n",
      "   [ 94  94  94]\n",
      "   [ 91  91  91]\n",
      "   [ 88  88  88]]\n",
      "\n",
      "  [[  8   8   8]\n",
      "   [  9   9   9]\n",
      "   [  9   9   9]\n",
      "   ...\n",
      "   [ 88  88  88]\n",
      "   [ 82  82  82]\n",
      "   [ 77  77  77]]\n",
      "\n",
      "  [[  8   8   8]\n",
      "   [  8   8   8]\n",
      "   [  9   9   9]\n",
      "   ...\n",
      "   [ 80  80  80]\n",
      "   [ 77  77  77]\n",
      "   [ 74  74  74]]]\n",
      "\n",
      "\n",
      " [[[117  98 100]\n",
      "   [126 107 109]\n",
      "   [133 114 116]\n",
      "   ...\n",
      "   [116  18  31]\n",
      "   [115  17  30]\n",
      "   [114  16  29]]\n",
      "\n",
      "  [[117  98 100]\n",
      "   [126 107 109]\n",
      "   [133 114 116]\n",
      "   ...\n",
      "   [116  18  31]\n",
      "   [115  17  30]\n",
      "   [114  16  29]]\n",
      "\n",
      "  [[117  98 100]\n",
      "   [126 107 109]\n",
      "   [133 114 116]\n",
      "   ...\n",
      "   [116  18  31]\n",
      "   [114  16  29]\n",
      "   [114  16  29]]\n",
      "\n",
      "  ...\n",
      "\n",
      "  [[130  44  47]\n",
      "   [131  45  48]\n",
      "   [137  48  54]\n",
      "   ...\n",
      "   [116  87  73]\n",
      "   [109  80  66]\n",
      "   [105  73  62]]\n",
      "\n",
      "  [[124  33  38]\n",
      "   [128  37  44]\n",
      "   [136  43  51]\n",
      "   ...\n",
      "   [119  86  69]\n",
      "   [118  82  68]\n",
      "   [115  79  67]]\n",
      "\n",
      "  [[132  40  45]\n",
      "   [131  36  44]\n",
      "   [132  36  47]\n",
      "   ...\n",
      "   [120  84  68]\n",
      "   [122  84  71]\n",
      "   [124  84  72]]]\n",
      "\n",
      "\n",
      " [[[255 255 255]\n",
      "   [246 246 246]\n",
      "   [255 254 255]\n",
      "   ...\n",
      "   [254 250 251]\n",
      "   [248 246 249]\n",
      "   [255 254 255]]\n",
      "\n",
      "  [[236 236 236]\n",
      "   [ 35  35  35]\n",
      "   [  1   0   0]\n",
      "   ...\n",
      "   [213 207 209]\n",
      "   [ 88  83  87]\n",
      "   [255 253 255]]\n",
      "\n",
      "  [[255 255 255]\n",
      "   [  4   4   4]\n",
      "   [ 14  12  13]\n",
      "   ...\n",
      "   [205 194 198]\n",
      "   [ 86  77  82]\n",
      "   [252 243 248]]\n",
      "\n",
      "  ...\n",
      "\n",
      "  [[255 252 251]\n",
      "   [224 212 214]\n",
      "   [213 198 201]\n",
      "   ...\n",
      "   [193 188 185]\n",
      "   [196 192 189]\n",
      "   [255 251 248]]\n",
      "\n",
      "  [[255 254 250]\n",
      "   [218 213 210]\n",
      "   [219 210 211]\n",
      "   ...\n",
      "   [216 216 216]\n",
      "   [211 211 211]\n",
      "   [253 255 254]]\n",
      "\n",
      "  [[249 248 243]\n",
      "   [255 255 250]\n",
      "   [255 254 251]\n",
      "   ...\n",
      "   [254 255 255]\n",
      "   [237 241 242]\n",
      "   [252 255 255]]]\n",
      "\n",
      "\n",
      " ...\n",
      "\n",
      "\n",
      " [[[177 176 172]\n",
      "   [219 218 214]\n",
      "   [228 227 223]\n",
      "   ...\n",
      "   [ 40  40  38]\n",
      "   [ 38  38  38]\n",
      "   [ 44  44  44]]\n",
      "\n",
      "  [[225 224 220]\n",
      "   [227 226 222]\n",
      "   [ 11  10   6]\n",
      "   ...\n",
      "   [ 35  35  33]\n",
      "   [ 35  35  35]\n",
      "   [ 42  42  42]]\n",
      "\n",
      "  [[159 158 154]\n",
      "   [226 225 221]\n",
      "   [192 191 187]\n",
      "   ...\n",
      "   [ 33  33  31]\n",
      "   [ 36  36  36]\n",
      "   [ 44  44  44]]\n",
      "\n",
      "  ...\n",
      "\n",
      "  [[ 15  14  12]\n",
      "   [176 175 173]\n",
      "   [113 112 110]\n",
      "   ...\n",
      "   [ 66  62  53]\n",
      "   [ 64  59  53]\n",
      "   [ 72  67  63]]\n",
      "\n",
      "  [[100  99  97]\n",
      "   [136 135 133]\n",
      "   [103 102 100]\n",
      "   ...\n",
      "   [ 60  56  47]\n",
      "   [ 55  50  44]\n",
      "   [ 60  55  51]]\n",
      "\n",
      "  [[ 73  72  70]\n",
      "   [ 27  26  24]\n",
      "   [ 70  69  67]\n",
      "   ...\n",
      "   [ 53  49  40]\n",
      "   [ 45  40  34]\n",
      "   [ 48  43  39]]]\n",
      "\n",
      "\n",
      " [[[ 84  67  23]\n",
      "   [ 22  28   0]\n",
      "   [ 29  60   0]\n",
      "   ...\n",
      "   [ 42  86   0]\n",
      "   [ 74  92  54]\n",
      "   [ 58  54 104]]\n",
      "\n",
      "  [[212 200 126]\n",
      "   [ 11  21   0]\n",
      "   [ 54  85   0]\n",
      "   ...\n",
      "   [101 128  75]\n",
      "   [ 94 109  50]\n",
      "   [ 81  91  22]]\n",
      "\n",
      "  [[152 146  62]\n",
      "   [ 45  55   0]\n",
      "   [185 210  83]\n",
      "   ...\n",
      "   [ 42  55  25]\n",
      "   [ 70  81   0]\n",
      "   [134 150   0]]\n",
      "\n",
      "  ...\n",
      "\n",
      "  [[255 249 186]\n",
      "   [255 243 183]\n",
      "   [255 230 173]\n",
      "   ...\n",
      "   [206 188 126]\n",
      "   [186 168 102]\n",
      "   [255 241 173]]\n",
      "\n",
      "  [[248 221 174]\n",
      "   [142 115  70]\n",
      "   [ 85  56  14]\n",
      "   ...\n",
      "   [195 172 118]\n",
      "   [141 114  59]\n",
      "   [187 161 104]]\n",
      "\n",
      "  [[167 138 106]\n",
      "   [204 175 145]\n",
      "   [ 73  42  14]\n",
      "   ...\n",
      "   [221 193 145]\n",
      "   [213 183 133]\n",
      "   [220 188 137]]]\n",
      "\n",
      "\n",
      " [[[111 148  52]\n",
      "   [101 137  50]\n",
      "   [ 94 127  58]\n",
      "   ...\n",
      "   [ 85 130  37]\n",
      "   [ 80 125  32]\n",
      "   [111 156  65]]\n",
      "\n",
      "  [[ 62  99   4]\n",
      "   [ 47  82   0]\n",
      "   [ 32  64   0]\n",
      "   ...\n",
      "   [ 93 138  47]\n",
      "   [ 71 116  25]\n",
      "   [ 83 128  37]]\n",
      "\n",
      "  [[ 78 114  24]\n",
      "   [ 55  90  10]\n",
      "   [ 27  59   0]\n",
      "   ...\n",
      "   [ 90 135  44]\n",
      "   [ 75 120  29]\n",
      "   [ 66 111  20]]\n",
      "\n",
      "  ...\n",
      "\n",
      "  [[ 64 100   2]\n",
      "   [198 234 138]\n",
      "   [161 196 102]\n",
      "   ...\n",
      "   [166 211 106]\n",
      "   [160 206  98]\n",
      "   [ 64 110   2]]\n",
      "\n",
      "  [[ 77 113  15]\n",
      "   [204 240 142]\n",
      "   [183 219 123]\n",
      "   ...\n",
      "   [152 197  92]\n",
      "   [ 96 142  34]\n",
      "   [ 88 134  25]]\n",
      "\n",
      "  [[106 142  44]\n",
      "   [ 95 131  33]\n",
      "   [103 139  43]\n",
      "   ...\n",
      "   [ 91 136  31]\n",
      "   [ 99 145  37]\n",
      "   [ 97 143  34]]]]\n",
      "y_train set :  [[0 0 0 0 0 0 0 0 0 0 0 0 0 0 0 0 0 0 0 0 0 0 0 0 0 0 0 0 0 0 0 0 0 0 0 0\n",
      "  0 0 0 0 0 0 0 0 0 0 0 0 0 0 0 0 0 0 0 0 0 0 0 0 0 0 0 0 0 0 0 0 0 0 0 0\n",
      "  1 1 1 1 1 1 1 1 1 1 1 1 1 1 1 1 1 1 1 1 1 1 1 1 1 1 1 1 1 1 1 1 1 1 1 1\n",
      "  1 1 1 1 1 1 1 1 1 1 1 1 1 1 1 1 1 1 1 1 1 1 1 1 1 1 1 1 1 1 1 1 1 1 1 1\n",
      "  1 1 1 1 1 1 1 1 1 1 1 1 1 1 1 1 1 1 1 1 1 1 1 1 1 1 1 1 1 1 1 1 1 1 1 1\n",
      "  1 1 1 1 1 1 1 1 1 1 1 1 1 1 1 1 1 1 1 1 1 1 1 1 1 1 1 1 1 1 1 1 1 1 1 1\n",
      "  1 1 1 1 1 1 1 1 1 1 1 1 1 1 1 1 1 1 1 1 1 1 1 1 1 1 1 1 1 1 1 1 1 1 1 1\n",
      "  1 1 1 1 1 1 1 1 1 1 1 1 1 1 1 1 1 1 1 1 1 1 1 1 1 1 1 1 1 1 1 1 1 1 1 1\n",
      "  1 1 1 1 1 1 1 1 1 1 1 1 1 1 1 1 1 1 1 1 1 1 1 1 1 1 1 1 1 1 1 1 1 1 1 1\n",
      "  1 1 1 1 1 1 1 1 1 1 1 1 1 1 1 1 1 1 1 1 1 1 1 1 1 1 1 1 1 1 1 1 1 1 1 1\n",
      "  1 1 1 1 1 1 1 1 1 1 1 1 1 1 1 1 1 1 1 1 1 1 1 1 1 1 1 1 1 1 1 1 1 1 1 1\n",
      "  1 1 1 1 1 1 1 1 1 1 1 1 1 1 1 1 1 1 1 1 1 1 1 1 1 1 1 1 1 1 1 1 1 1 1 1\n",
      "  1 1 1 1 1 1 1 1 1 1 1]]\n",
      "X_test set :  [[[[109  91  89]\n",
      "   [224 206 204]\n",
      "   [208 193 190]\n",
      "   ...\n",
      "   [ 52  57  51]\n",
      "   [ 27  31  32]\n",
      "   [ 65  66  70]]\n",
      "\n",
      "  [[240 222 220]\n",
      "   [219 201 199]\n",
      "   [124 109 106]\n",
      "   ...\n",
      "   [ 85  90  84]\n",
      "   [ 64  65  67]\n",
      "   [ 95  96 100]]\n",
      "\n",
      "  [[233 215 213]\n",
      "   [240 222 220]\n",
      "   [224 209 206]\n",
      "   ...\n",
      "   [101 103  98]\n",
      "   [ 76  77  79]\n",
      "   [ 91  92  96]]\n",
      "\n",
      "  ...\n",
      "\n",
      "  [[226 219 213]\n",
      "   [ 44  35  30]\n",
      "   [ 60  51  46]\n",
      "   ...\n",
      "   [ 14  15  17]\n",
      "   [ 22  23  25]\n",
      "   [ 22  23  25]]\n",
      "\n",
      "  [[237 230 224]\n",
      "   [135 128 122]\n",
      "   [ 84  77  71]\n",
      "   ...\n",
      "   [ 18  22  23]\n",
      "   [ 22  26  27]\n",
      "   [ 19  23  24]]\n",
      "\n",
      "  [[199 194 188]\n",
      "   [ 75  70  64]\n",
      "   [ 75  68  62]\n",
      "   ...\n",
      "   [ 26  30  31]\n",
      "   [ 26  30  31]\n",
      "   [ 18  22  23]]]\n",
      "\n",
      "\n",
      " [[[ 97 113 139]\n",
      "   [113 129 155]\n",
      "   [ 93 109 134]\n",
      "   ...\n",
      "   [101 111 136]\n",
      "   [115 125 150]\n",
      "   [ 59  69  94]]\n",
      "\n",
      "  [[136 152 178]\n",
      "   [117 133 159]\n",
      "   [134 150 175]\n",
      "   ...\n",
      "   [127 139 163]\n",
      "   [133 143 168]\n",
      "   [121 131 156]]\n",
      "\n",
      "  [[115 131 157]\n",
      "   [122 138 164]\n",
      "   [162 179 205]\n",
      "   ...\n",
      "   [140 152 176]\n",
      "   [135 145 170]\n",
      "   [110 120 145]]\n",
      "\n",
      "  ...\n",
      "\n",
      "  [[128 145 171]\n",
      "   [121 138 164]\n",
      "   [ 61  78 104]\n",
      "   ...\n",
      "   [106 122 145]\n",
      "   [116 132 155]\n",
      "   [ 98 114 137]]\n",
      "\n",
      "  [[ 93 110 136]\n",
      "   [125 142 168]\n",
      "   [129 146 172]\n",
      "   ...\n",
      "   [ 93 114 135]\n",
      "   [ 76  97 118]\n",
      "   [119 140 161]]\n",
      "\n",
      "  [[108 124 150]\n",
      "   [132 148 174]\n",
      "   [109 125 151]\n",
      "   ...\n",
      "   [ 21  46  66]\n",
      "   [ 31  56  76]\n",
      "   [ 48  73  93]]]\n",
      "\n",
      "\n",
      " [[[184 200 112]\n",
      "   [196 211 120]\n",
      "   [201 217 119]\n",
      "   ...\n",
      "   [200 198 111]\n",
      "   [216 211 143]\n",
      "   [154 146  97]]\n",
      "\n",
      "  [[187 202 117]\n",
      "   [197 211 123]\n",
      "   [202 217 122]\n",
      "   ...\n",
      "   [187 184 103]\n",
      "   [236 231 163]\n",
      "   [199 192 137]]\n",
      "\n",
      "  [[193 208 125]\n",
      "   [201 215 128]\n",
      "   [207 220 128]\n",
      "   ...\n",
      "   [209 202 132]\n",
      "   [214 207 139]\n",
      "   [185 177 112]]\n",
      "\n",
      "  ...\n",
      "\n",
      "  [[209 199 127]\n",
      "   [190 180 109]\n",
      "   [176 165  99]\n",
      "   ...\n",
      "   [172 165  75]\n",
      "   [177 169 106]\n",
      "   [140 130  95]]\n",
      "\n",
      "  [[181 173 100]\n",
      "   [124 116  44]\n",
      "   [163 153  84]\n",
      "   ...\n",
      "   [166 159  69]\n",
      "   [205 200 119]\n",
      "   [188 183 117]]\n",
      "\n",
      "  [[182 174  99]\n",
      "   [172 164  91]\n",
      "   [183 173 104]\n",
      "   ...\n",
      "   [207 199 114]\n",
      "   [175 171  80]\n",
      "   [159 157  72]]]\n",
      "\n",
      "\n",
      " ...\n",
      "\n",
      "\n",
      " [[[ 98 127 227]\n",
      "   [103 132 232]\n",
      "   [110 140 238]\n",
      "   ...\n",
      "   [ 57  41 104]\n",
      "   [ 50  29  98]\n",
      "   [ 59  36 108]]\n",
      "\n",
      "  [[104 133 233]\n",
      "   [109 138 238]\n",
      "   [115 144 244]\n",
      "   ...\n",
      "   [ 50  36  97]\n",
      "   [ 54  38 103]\n",
      "   [ 57  37 106]]\n",
      "\n",
      "  [[104 133 235]\n",
      "   [109 138 240]\n",
      "   [115 144 244]\n",
      "   ...\n",
      "   [ 51  42  97]\n",
      "   [ 48  38  98]\n",
      "   [ 51  39 103]]\n",
      "\n",
      "  ...\n",
      "\n",
      "  [[ 26  21  25]\n",
      "   [ 41  35  39]\n",
      "   [ 72  66  70]\n",
      "   ...\n",
      "   [125 131 191]\n",
      "   [134 140 202]\n",
      "   [109 114 178]]\n",
      "\n",
      "  [[ 28  23  27]\n",
      "   [ 30  25  29]\n",
      "   [ 71  65  69]\n",
      "   ...\n",
      "   [110 120 192]\n",
      "   [135 145 217]\n",
      "   [110 119 194]]\n",
      "\n",
      "  [[ 27  22  26]\n",
      "   [ 22  17  21]\n",
      "   [ 57  51  55]\n",
      "   ...\n",
      "   [ 90 103 181]\n",
      "   [116 129 208]\n",
      "   [ 89 102 181]]]\n",
      "\n",
      "\n",
      " [[[143  66  10]\n",
      "   [141  64  10]\n",
      "   [142  66  14]\n",
      "   ...\n",
      "   [ 32   6   7]\n",
      "   [ 34   5   7]\n",
      "   [ 35   6   8]]\n",
      "\n",
      "  [[152  79  26]\n",
      "   [148  75  24]\n",
      "   [150  77  26]\n",
      "   ...\n",
      "   [ 33   9   7]\n",
      "   [ 35   9   8]\n",
      "   [ 36  10   9]]\n",
      "\n",
      "  [[131  63  18]\n",
      "   [136  68  23]\n",
      "   [148  80  35]\n",
      "   ...\n",
      "   [ 28   7   2]\n",
      "   [ 28   7   2]\n",
      "   [ 29   8   3]]\n",
      "\n",
      "  ...\n",
      "\n",
      "  [[ 56  32   6]\n",
      "   [ 60  36  10]\n",
      "   [ 69  45  19]\n",
      "   ...\n",
      "   [ 46  14   1]\n",
      "   [ 43  14   0]\n",
      "   [ 43  13   2]]\n",
      "\n",
      "  [[ 68  44   8]\n",
      "   [ 65  41   5]\n",
      "   [ 72  48  12]\n",
      "   ...\n",
      "   [ 47  15   2]\n",
      "   [ 42  13   0]\n",
      "   [ 41  11   0]]\n",
      "\n",
      "  [[ 62  37   0]\n",
      "   [ 58  33   0]\n",
      "   [ 71  46   6]\n",
      "   ...\n",
      "   [ 44  12   0]\n",
      "   [ 38   9   0]\n",
      "   [ 36   6   0]]]\n",
      "\n",
      "\n",
      " [[[ 61  56  60]\n",
      "   [ 68  66  67]\n",
      "   [ 68  68  66]\n",
      "   ...\n",
      "   [148  88  80]\n",
      "   [124  63  58]\n",
      "   [146  85  80]]\n",
      "\n",
      "  [[ 75  70  74]\n",
      "   [ 67  65  66]\n",
      "   [ 54  54  52]\n",
      "   ...\n",
      "   [167 119 105]\n",
      "   [141  93  81]\n",
      "   [100  52  40]]\n",
      "\n",
      "  [[ 63  58  62]\n",
      "   [ 69  67  68]\n",
      "   [ 68  68  66]\n",
      "   ...\n",
      "   [173 141 118]\n",
      "   [ 56  24   3]\n",
      "   [ 45  13   0]]\n",
      "\n",
      "  ...\n",
      "\n",
      "  [[100 118 128]\n",
      "   [ 93 111 121]\n",
      "   [ 90 108 120]\n",
      "   ...\n",
      "   [ 71  62  55]\n",
      "   [ 70  61  54]\n",
      "   [ 72  62  53]]\n",
      "\n",
      "  [[ 95 113 123]\n",
      "   [ 91 109 121]\n",
      "   [ 90 108 120]\n",
      "   ...\n",
      "   [ 73  64  59]\n",
      "   [ 74  63  57]\n",
      "   [ 77  64  58]]\n",
      "\n",
      "  [[ 95 113 123]\n",
      "   [ 93 111 123]\n",
      "   [ 94 112 124]\n",
      "   ...\n",
      "   [ 76  65  61]\n",
      "   [ 77  64  58]\n",
      "   [ 78  65  59]]]]\n",
      "y_test set :  [[1 1 1 1 1 1 1 1 1 1 1 1 1 1 1 1 1 1 1 1 1 1 1 1 1 1 1 1 1 1 1 1 1 1 1 1\n",
      "  1 1 1 1 1 1 1 1 1 1 1 1 1 0 0 0 0 0 0 0 0 0 0 0 0 0 0]]\n"
     ]
    }
   ],
   "source": [
    "def get_data(path):\n",
    "    \"\"\"\n",
    "    # Resize images to 64 by 64 to speed up training process\n",
    "\n",
    "\n",
    "    Arguments:\n",
    "    path -- path to where data is stored\n",
    "\n",
    "    Output:\n",
    "    np.array(all_images_as_array): Images converted to an array\n",
    "    np.array(label).reshape(1,-1): Labels extracted from images\n",
    "    \"\"\"\n",
    "\n",
    "    all_images_as_array = []\n",
    "    label = []\n",
    "\n",
    "    for filename in os.listdir(path):\n",
    "        try:\n",
    "            if re.match(r'bird', filename):\n",
    "                label.append(1)\n",
    "            else:\n",
    "                label.append(0)\n",
    "\n",
    "            img = Image.open(path + filename)\n",
    "            np_array = np.asarray(img)\n",
    "            #l, b, c = np_array.shape\n",
    "            #np_array = np_array.reshape(l*b*c,)\n",
    "            all_images_as_array.append(np_array)\n",
    "        except:\n",
    "            continue\n",
    "    return np.array(all_images_as_array), np.array(label).reshape(1, -1)\n",
    "\n",
    "\n",
    "path_to_train_set = \"C://Users//Maged Helmy//Desktop//youTube//data_1//train_set//\"\n",
    "path_to_test_set = \"C://Users//Maged Helmy//Desktop//youTube//data_1//test_set//\"\n",
    "\n",
    "train_set_x_orig, train_set_y = get_data(path_to_train_set)\n",
    "test_set_x_orig, test_set_y = get_data(path_to_test_set)\n",
    "\n",
    "print('X_train set : ', train_set_x_orig)\n",
    "print('y_train set : ', train_set_y)\n",
    "print('X_test set : ', test_set_x_orig)\n",
    "print('y_test set : ', test_set_y)"
   ]
  },
  {
   "cell_type": "markdown",
   "metadata": {},
   "source": [
    "<p> Step 1.1: Create Classes <p>"
   ]
  },
  {
   "cell_type": "code",
   "execution_count": 3,
   "metadata": {
    "ExecuteTime": {
     "end_time": "2020-01-03T15:00:40.208250Z",
     "start_time": "2020-01-03T15:00:40.202300Z"
    }
   },
   "outputs": [
    {
     "data": {
      "text/plain": [
       "array(['non-bird', 'bird'], dtype='<U8')"
      ]
     },
     "execution_count": 3,
     "metadata": {},
     "output_type": "execute_result"
    }
   ],
   "source": [
    "#Create classes for your data\n",
    "list_classes = ['non-bird','bird']\n",
    "classes = np.array(list_classes) \n",
    "classes"
   ]
  },
  {
   "cell_type": "markdown",
   "metadata": {
    "ExecuteTime": {
     "end_time": "2020-01-02T21:39:00.628396Z",
     "start_time": "2020-01-02T21:39:00.623409Z"
    }
   },
   "source": [
    "<p> Step 2: Visualize the Dataset <p>"
   ]
  },
  {
   "cell_type": "code",
   "execution_count": 4,
   "metadata": {
    "ExecuteTime": {
     "end_time": "2020-01-03T15:00:40.325966Z",
     "start_time": "2020-01-03T15:00:40.209247Z"
    }
   },
   "outputs": [
    {
     "name": "stdout",
     "output_type": "stream",
     "text": [
      "y = [1], it's a 'bird' picture.\n"
     ]
    },
    {
     "data": {
      "image/png": "[encoded data removed]",
      "text/plain": [
       "<Figure size 432x288 with 1 Axes>"
      ]
     },
     "metadata": {
      "needs_background": "light"
     },
     "output_type": "display_data"
    }
   ],
   "source": [
    "# Example of a picture\n",
    "index = 350\n",
    "\n",
    "plt.imshow(train_set_x_orig[index])\n",
    "print (\"y = \" + str(train_set_y[:, index]) + \", it's a '\" + classes[np.squeeze(train_set_y[:, index])] +  \"' picture.\")"
   ]
  },
  {
   "cell_type": "markdown",
   "metadata": {
    "ExecuteTime": {
     "end_time": "2020-01-02T15:21:23.603234Z",
     "start_time": "2020-01-02T15:21:23.588276Z"
    }
   },
   "source": [
    "<p> Step 3: Get a general feeling of the dataset <p>"
   ]
  },
  {
   "cell_type": "code",
   "execution_count": 5,
   "metadata": {
    "ExecuteTime": {
     "end_time": "2020-01-03T15:00:40.332944Z",
     "start_time": "2020-01-03T15:00:40.326933Z"
    }
   },
   "outputs": [
    {
     "name": "stdout",
     "output_type": "stream",
     "text": [
      "Number of training examples: m_train = 443\n",
      "Number of testing examples: m_test = 63\n",
      "Height/Width of each image: num_px = 64\n",
      "Each image is of size: (64, 64, 3)\n",
      "train_set_x shape: (443, 64, 64, 3)\n",
      "train_set_y shape: (1, 443)\n",
      "test_set_x shape: (63, 64, 64, 3)\n",
      "test_set_y shape: (1, 63)\n"
     ]
    }
   ],
   "source": [
    "m_train = train_set_x_orig.shape[0]\n",
    "m_test = test_set_x_orig.shape[0]\n",
    "num_px = train_set_x_orig.shape[1]\n",
    "\n",
    "print (\"Number of training examples: m_train = \" + str(m_train))\n",
    "print (\"Number of testing examples: m_test = \" + str(m_test))\n",
    "print (\"Height/Width of each image: num_px = \" + str(num_px))\n",
    "print (\"Each image is of size: (\" + str(num_px) + \", \" + str(num_px) + \", 3)\")\n",
    "print (\"train_set_x shape: \" + str(train_set_x_orig.shape))\n",
    "print (\"train_set_y shape: \" + str(train_set_y.shape))\n",
    "print (\"test_set_x shape: \" + str(test_set_x_orig.shape))\n",
    "print (\"test_set_y shape: \" + str(test_set_y.shape))"
   ]
  },
  {
   "cell_type": "markdown",
   "metadata": {
    "ExecuteTime": {
     "end_time": "2020-01-02T20:01:01.724609Z",
     "start_time": "2020-01-02T20:01:01.719618Z"
    }
   },
   "source": [
    "<p> Step 4: Flatten and Reshape the Dataset for Convenience of Representation<p>"
   ]
  },
  {
   "cell_type": "code",
   "execution_count": 6,
   "metadata": {
    "ExecuteTime": {
     "end_time": "2020-01-03T15:00:40.338900Z",
     "start_time": "2020-01-03T15:00:40.333913Z"
    }
   },
   "outputs": [
    {
     "name": "stdout",
     "output_type": "stream",
     "text": [
      "train_set_x_flatten shape: (12288, 443)\n",
      "train_set_y shape: (1, 443)\n",
      "test_set_x_flatten shape: (12288, 63)\n",
      "test_set_y shape: (1, 63)\n"
     ]
    }
   ],
   "source": [
    "# Reshape the training and test examples\n",
    "\n",
    "train_set_x_flatten = train_set_x_orig.reshape(train_set_x_orig.shape[0], -1).T\n",
    "test_set_x_flatten = test_set_x_orig.reshape(test_set_x_orig.shape[0], -1).T\n",
    "\n",
    "print (\"train_set_x_flatten shape: \" + str(train_set_x_flatten.shape))\n",
    "print (\"train_set_y shape: \" + str(train_set_y.shape))\n",
    "print (\"test_set_x_flatten shape: \" + str(test_set_x_flatten.shape))\n",
    "print (\"test_set_y shape: \" + str(test_set_y.shape))\n"
   ]
  },
  {
   "cell_type": "markdown",
   "metadata": {
    "ExecuteTime": {
     "end_time": "2020-01-02T20:01:33.695895Z",
     "start_time": "2020-01-02T20:01:33.691905Z"
    }
   },
   "source": [
    "<p> Step 5: Standarize the Dataset <p>"
   ]
  },
  {
   "cell_type": "code",
   "execution_count": 7,
   "metadata": {
    "ExecuteTime": {
     "end_time": "2020-01-03T15:00:40.366860Z",
     "start_time": "2020-01-03T15:00:40.339898Z"
    }
   },
   "outputs": [],
   "source": [
    "train_set_x = train_set_x_flatten/255.\n",
    "test_set_x = test_set_x_flatten/255."
   ]
  },
  {
   "cell_type": "markdown",
   "metadata": {},
   "source": [
    "<h2> Part 2.0: Recap Neural Architecture </h2>"
   ]
  },
  {
   "cell_type": "markdown",
   "metadata": {
    "ExecuteTime": {
     "end_time": "2020-01-02T21:43:22.379959Z",
     "start_time": "2020-01-02T21:43:22.374958Z"
    }
   },
   "source": [
    "<p> Objective <p>\n",
    "<li> Write a sigmoid function </li>\n",
    "<li> Write a function to initlize logistic regression parameters w and b with zero</li>\n",
    "<li> Write a function that implements forward, backward and learning rate </li>\n",
    "<li> Write a function to predict, maybe merge with above ? </li>\n",
    "<li> Merge all above functions in a single function called model </li>\n",
    "<li> Adjust Learning Rates </li>    \n",
    "<li> Visualize Learning Rates </li>    \n",
    "<li> Add your own image </li>    "
   ]
  },
  {
   "cell_type": "markdown",
   "metadata": {
    "ExecuteTime": {
     "end_time": "2020-01-02T20:06:09.128021Z",
     "start_time": "2020-01-02T20:06:09.123034Z"
    }
   },
   "source": [
    "<h2> Part 2.1: Recap Logistic Regression </h2>"
   ]
  },
  {
   "cell_type": "markdown",
   "metadata": {},
   "source": [
    "**Mathematical expression of the algorithm**:\n",
    "\n",
    "For one example $x^{(i)}$:\n",
    "$$z^{(i)} = w^T x^{(i)} + b \\tag{1}$$\n",
    "$$\\hat{y}^{(i)} = a^{(i)} = sigmoid(z^{(i)}) = \\frac{1}{1 + e^{-(z)}} \\tag{2}$$\n",
    "$$ \\mathcal{L}(a^{(i)}, y^{(i)}) =  - y^{(i)}  \\log(a^{(i)}) - (1-y^{(i)} )  \\log(1-a^{(i)})\\tag{3}$$\n",
    "\n",
    "The cost is then computed by summing over all training examples:\n",
    "$$ J = \\frac{1}{m} \\sum_{i=1}^m \\mathcal{L}(a^{(i)}, y^{(i)})\\tag{6}$$"
   ]
  },
  {
   "cell_type": "markdown",
   "metadata": {},
   "source": [
    "<h2> Part 2.2: Sigmoid Function </h2>"
   ]
  },
  {
   "cell_type": "code",
   "execution_count": 8,
   "metadata": {
    "ExecuteTime": {
     "end_time": "2020-01-03T15:00:40.370815Z",
     "start_time": "2020-01-03T15:00:40.367822Z"
    }
   },
   "outputs": [],
   "source": [
    "# GRADED FUNCTION: sigmoid\n",
    "\n",
    "def sigmoid(z):\n",
    "    \"\"\"\n",
    "    Compute the sigmoid of z\n",
    "\n",
    "    Arguments:\n",
    "    z -- A scalar or numpy array of any size.\n",
    "\n",
    "    Return:\n",
    "    s -- sigmoid(z)\n",
    "    \"\"\"\n",
    "    \n",
    "    s = 1 / (1 + np.exp(-z))\n",
    "    \n",
    "    return s"
   ]
  },
  {
   "cell_type": "markdown",
   "metadata": {},
   "source": [
    "<h2> Part 2.3: Intialize Values with Zero Function </h2>"
   ]
  },
  {
   "cell_type": "code",
   "execution_count": 9,
   "metadata": {
    "ExecuteTime": {
     "end_time": "2020-01-03T15:00:40.377800Z",
     "start_time": "2020-01-03T15:00:40.372812Z"
    }
   },
   "outputs": [],
   "source": [
    "# GRADED FUNCTION: initialize_with_zeros\n",
    "\n",
    "def initialize_with_zeros(dim):\n",
    "    \"\"\"\n",
    "    This function creates a vector of zeros of shape (dim, 1) for w and initializes b to 0.\n",
    "    \n",
    "    Argument:\n",
    "    dim -- size of the w vector we want (or number of parameters in this case)\n",
    "    \n",
    "    Returns:\n",
    "    w -- initialized vector of shape (dim, 1)\n",
    "    b -- initialized scalar (corresponds to the bias)\n",
    "    \"\"\"\n",
    "    w = np.zeros((dim,1))\n",
    "    b = 0\n",
    "    \n",
    "    return w, b"
   ]
  },
  {
   "cell_type": "markdown",
   "metadata": {
    "ExecuteTime": {
     "end_time": "2020-01-02T20:21:06.503675Z",
     "start_time": "2020-01-02T20:21:06.499685Z"
    }
   },
   "source": [
    "<h2> Part 2.4: Implement Forward  Propogation, Backward  Propogation, Iteration and Learning Rate </h2>"
   ]
  },
  {
   "cell_type": "code",
   "execution_count": 10,
   "metadata": {
    "ExecuteTime": {
     "end_time": "2020-01-03T15:00:40.386804Z",
     "start_time": "2020-01-03T15:00:40.378793Z"
    }
   },
   "outputs": [],
   "source": [
    "# GRADED FUNCTION: optimize\n",
    "\n",
    "def optimize(w, b, X, Y, num_iterations, learning_rate, print_cost):\n",
    "    \"\"\"\n",
    "    This function optimizes w and b by running a gradient descent algorithm\n",
    "    \n",
    "    Arguments:\n",
    "    w -- weights, a numpy array of size (num_px * num_px * 3, 1)\n",
    "    b -- bias, a scalar\n",
    "    X -- data of shape (num_px * num_px * 3, number of examples)\n",
    "    Y -- true \"label\" vector (containing 0 if non-cat, 1 if cat), of shape (1, number of examples)\n",
    "    num_iterations -- number of iterations of the optimization loop\n",
    "    learning_rate -- learning rate of the gradient descent update rule\n",
    "    print_cost -- True to print the loss every 100 steps\n",
    "    \n",
    "    Returns:\n",
    "    params -- dictionary containing the weights w and bias b\n",
    "    grads -- dictionary containing the gradients of the weights and bias with respect to the cost function\n",
    "    costs -- list of all the costs computed during the optimization, this will be used to plot the learning curve.\n",
    "    \n",
    "    Tips:\n",
    "    You basically need to write down two steps and iterate through them:\n",
    "        1) Calculate the cost and the gradient for the current parameters. Use propagate().\n",
    "        2) Update the parameters using gradient descent rule for w and b.\n",
    "    \"\"\"\n",
    "    \n",
    "    costs = []\n",
    "    \n",
    "    for i in range(num_iterations):\n",
    "        \n",
    "        \n",
    "        # Get the amount of training set\n",
    "        m = X.shape[1]\n",
    "\n",
    "        # FORWARD PROPAGATION (FROM X TO COST)\n",
    "        A = sigmoid(np.dot(w.T,X)+b)                                  # compute activation\n",
    "        cost = (-1/m)* np.sum((Y*np.log(A)) + (1-Y)*np.log(1-A))      # compute cost\n",
    "        cost = np.squeeze(cost)\n",
    "\n",
    "\n",
    "        # BACKWARD PROPAGATION (TO FIND GRAD)\n",
    "        dw = (np.dot(X, np.subtract(A,Y).T)) / m\n",
    "        db = (np.sum(A-Y)) / m\n",
    "\n",
    "        grads = {\"dw\": dw,\n",
    "                 \"db\": db}\n",
    "        \n",
    "        # Retrieve derivatives from grads\n",
    "        dw = grads[\"dw\"]\n",
    "        db = grads[\"db\"]\n",
    "        \n",
    "        # update rule\n",
    "        w = w - learning_rate*dw\n",
    "        b = b - learning_rate*db\n",
    "        \n",
    "        # Record the costs\n",
    "        if i % 100 == 0:\n",
    "            costs.append(cost)\n",
    "        \n",
    "        # Print the cost every 100 training iterations\n",
    "        if print_cost and i % 100 == 0:\n",
    "            print (\"Cost after iteration %i: %f\" %(i, cost))\n",
    "    \n",
    "    params = {\"w\": w,\n",
    "              \"b\": b}\n",
    "    \n",
    "    grads = {\"dw\": dw,\n",
    "             \"db\": db}\n",
    "    \n",
    "    return params, grads, costs"
   ]
  },
  {
   "cell_type": "markdown",
   "metadata": {},
   "source": [
    "<h2> Part 2.7: Implement Predict  </h2>"
   ]
  },
  {
   "cell_type": "code",
   "execution_count": 11,
   "metadata": {
    "ExecuteTime": {
     "end_time": "2020-01-03T15:00:40.393753Z",
     "start_time": "2020-01-03T15:00:40.387769Z"
    }
   },
   "outputs": [],
   "source": [
    "# GRADED FUNCTION: predict\n",
    "\n",
    "def predict(w, b, X):\n",
    "    '''\n",
    "    Predict whether the label is 0 or 1 using learned logistic regression parameters (w, b)\n",
    "    \n",
    "    Arguments:\n",
    "    w -- weights, a numpy array of size (num_px * num_px * 3, 1)\n",
    "    b -- bias, a scalar\n",
    "    X -- data of size (num_px * num_px * 3, number of examples)\n",
    "    \n",
    "    Returns:\n",
    "    Y_prediction -- a numpy array (vector) containing all predictions (0/1) for the examples in X\n",
    "    '''\n",
    "    \n",
    "    m = X.shape[1]\n",
    "    Y_prediction = np.zeros((1,m))\n",
    "    w = w.reshape(X.shape[0], 1)\n",
    "    \n",
    "    # Compute vector \"A\" predicting the probabilities of a cat being present in the picture\n",
    "    A = sigmoid(np.dot(w.T,X)+b)\n",
    "    \n",
    "    for i in range(A.shape[1]):\n",
    "        \n",
    "        # Convert probabilities A[0,i] to actual predictions p[0,i]\n",
    "        Y_prediction[0,i] = 0 if A[0,i] <= 0.5 else 1\n",
    "    \n",
    "    \n",
    "    return Y_prediction"
   ]
  },
  {
   "cell_type": "markdown",
   "metadata": {},
   "source": [
    "<h2> Part 2.8: The Model</h2>"
   ]
  },
  {
   "cell_type": "code",
   "execution_count": 17,
   "metadata": {
    "ExecuteTime": {
     "end_time": "2020-01-03T15:01:22.143263Z",
     "start_time": "2020-01-03T15:01:15.300607Z"
    }
   },
   "outputs": [
    {
     "name": "stdout",
     "output_type": "stream",
     "text": [
      "Cost after iteration 0: 0.693147\n",
      "Cost after iteration 100: 0.324185\n",
      "Cost after iteration 200: 0.280762\n",
      "Cost after iteration 300: 0.251260\n",
      "Cost after iteration 400: 0.228749\n",
      "Cost after iteration 500: 0.210482\n",
      "Cost after iteration 600: 0.195100\n",
      "Cost after iteration 700: 0.181829\n",
      "Cost after iteration 800: 0.170186\n",
      "Cost after iteration 900: 0.159847\n",
      "Cost after iteration 1000: 0.150581\n",
      "Cost after iteration 1100: 0.142221\n",
      "Cost after iteration 1200: 0.134638\n",
      "Cost after iteration 1300: 0.127730\n",
      "Cost after iteration 1400: 0.121415\n",
      "Cost after iteration 1500: 0.115624\n",
      "Cost after iteration 1600: 0.110299\n",
      "Cost after iteration 1700: 0.105392\n",
      "Cost after iteration 1800: 0.100860\n",
      "Cost after iteration 1900: 0.096667\n",
      "train accuracy: 98.87133182844244 %\n",
      "test accuracy: 85.71428571428572 %\n"
     ]
    }
   ],
   "source": [
    "# GRADED FUNCTION: model\n",
    "\n",
    "def model(X_train, Y_train, X_test, Y_test, num_iterations = 2000, learning_rate = 0.5, print_cost = False):\n",
    "    \"\"\"\n",
    "    Builds the logistic regression model by calling the function you've implemented previously\n",
    "    \n",
    "    Arguments:\n",
    "    X_train -- training set represented by a numpy array of shape (num_px * num_px * 3, m_train)\n",
    "    Y_train -- training labels represented by a numpy array (vector) of shape (1, m_train)\n",
    "    X_test -- test set represented by a numpy array of shape (num_px * num_px * 3, m_test)\n",
    "    Y_test -- test labels represented by a numpy array (vector) of shape (1, m_test)\n",
    "    num_iterations -- hyperparameter representing the number of iterations to optimize the parameters\n",
    "    learning_rate -- hyperparameter representing the learning rate used in the update rule of optimize()\n",
    "    print_cost -- Set to true to print the cost every 100 iterations\n",
    "    \n",
    "    Returns:\n",
    "    d -- dictionary containing information about the model.\n",
    "    \"\"\"\n",
    "        \n",
    "    # initialize parameters with zeros \n",
    "    w, b = initialize_with_zeros(X_train.shape[0])\n",
    "\n",
    "    # Gradient descent \n",
    "    parameters, grads, costs = optimize(w, b, X_train, Y_train, num_iterations, learning_rate, print_cost)\n",
    "    \n",
    "    # Retrieve parameters w and b from dictionary \"parameters\"\n",
    "    w = parameters[\"w\"]\n",
    "    b = parameters[\"b\"]\n",
    "    \n",
    "    # Predict test/train set examples (≈ 2 lines of code)\n",
    "    Y_prediction_test = predict(w, b, X_test)\n",
    "    Y_prediction_train = predict(w, b, X_train)\n",
    "\n",
    "    # Print train/test Errors\n",
    "    print(\"train accuracy: {} %\".format(100 - np.mean(np.abs(Y_prediction_train - Y_train)) * 100))\n",
    "    print(\"test accuracy: {} %\".format(100 - np.mean(np.abs(Y_prediction_test - Y_test)) * 100))\n",
    "\n",
    "    \n",
    "    d = {\"costs\": costs,\n",
    "         \"Y_prediction_test\": Y_prediction_test, \n",
    "         \"Y_prediction_train\" : Y_prediction_train, \n",
    "         \"w\" : w, \n",
    "         \"b\" : b,\n",
    "         \"learning_rate\" : learning_rate,\n",
    "         \"num_iterations\": num_iterations}\n",
    "    \n",
    "    return d\n",
    "\n",
    "d = model(train_set_x, train_set_y, test_set_x, test_set_y, num_iterations = 2000, learning_rate = 0.005, print_cost = True)"
   ]
  },
  {
   "cell_type": "code",
   "execution_count": null,
   "metadata": {
    "ExecuteTime": {
     "end_time": "2020-01-03T13:20:23.961354Z",
     "start_time": "2020-01-03T13:20:17.714073Z"
    }
   },
   "outputs": [],
   "source": []
  },
  {
   "cell_type": "code",
   "execution_count": 13,
   "metadata": {
    "ExecuteTime": {
     "end_time": "2020-01-03T15:00:47.418954Z",
     "start_time": "2020-01-03T15:00:47.274338Z"
    }
   },
   "outputs": [
    {
     "data": {
      "image/png": "[encoded data removed]",
      "text/plain": [
       "<Figure size 432x288 with 1 Axes>"
      ]
     },
     "metadata": {
      "needs_background": "light"
     },
     "output_type": "display_data"
    }
   ],
   "source": [
    "# Plot learning curve (with costs)\n",
    "costs = np.squeeze(d['costs'])\n",
    "plt.plot(costs)\n",
    "plt.ylabel('cost')\n",
    "plt.xlabel('iterations (per hundreds)')\n",
    "plt.title(\"Learning rate =\" + str(d[\"learning_rate\"]))\n",
    "plt.show()"
   ]
  },
  {
   "cell_type": "markdown",
   "metadata": {},
   "source": [
    "<h2> Part 2.9: Adjusting Learning Rates</h2>"
   ]
  },
  {
   "cell_type": "code",
   "execution_count": 14,
   "metadata": {
    "ExecuteTime": {
     "end_time": "2020-01-03T15:01:01.846341Z",
     "start_time": "2020-01-03T15:00:47.420947Z"
    }
   },
   "outputs": [
    {
     "name": "stdout",
     "output_type": "stream",
     "text": [
      "learning rate is: 0.01\n",
      "train accuracy: 99.54853273137698 %\n",
      "test accuracy: 85.71428571428572 %\n",
      "\n",
      "-------------------------------------------------------\n",
      "\n",
      "learning rate is: 0.001\n",
      "train accuracy: 90.51918735891648 %\n",
      "test accuracy: 84.12698412698413 %\n",
      "\n",
      "-------------------------------------------------------\n",
      "\n",
      "learning rate is: 0.0001\n",
      "train accuracy: 83.97291196388262 %\n",
      "test accuracy: 77.77777777777777 %\n",
      "\n",
      "-------------------------------------------------------\n",
      "\n"
     ]
    },
    {
     "data": {
      "image/png": "[encoded data removed]",
      "text/plain": [
       "<Figure size 432x288 with 1 Axes>"
      ]
     },
     "metadata": {
      "needs_background": "light"
     },
     "output_type": "display_data"
    }
   ],
   "source": [
    "learning_rates = [0.01, 0.001, 0.0001]\n",
    "models = {}\n",
    "for i in learning_rates:\n",
    "    print (\"learning rate is: \" + str(i))\n",
    "    models[str(i)] = model(train_set_x, train_set_y, test_set_x, test_set_y, num_iterations = 1500, learning_rate = i, print_cost = False)\n",
    "    print ('\\n' + \"-------------------------------------------------------\" + '\\n')\n",
    "\n",
    "for i in learning_rates:\n",
    "    plt.plot(np.squeeze(models[str(i)][\"costs\"]), label= str(models[str(i)][\"learning_rate\"]))\n",
    "\n",
    "plt.ylabel('cost')\n",
    "plt.xlabel('iterations (hundreds)')\n",
    "\n",
    "legend = plt.legend(loc='upper center', shadow=True)\n",
    "frame = legend.get_frame()\n",
    "frame.set_facecolor('0.90')\n",
    "plt.show()"
   ]
  },
  {
   "cell_type": "markdown",
   "metadata": {},
   "source": [
    "<h2> Part 2.10: Adding your own Image</h2>"
   ]
  },
  {
   "cell_type": "code",
   "execution_count": 15,
   "metadata": {
    "ExecuteTime": {
     "end_time": "2020-01-03T15:01:02.018877Z",
     "start_time": "2020-01-03T15:01:01.847338Z"
    }
   },
   "outputs": [
    {
     "name": "stdout",
     "output_type": "stream",
     "text": [
      "y = 1.0, your algorithm predicts a \"bird\" picture.\n"
     ]
    },
    {
     "data": {
      "image/png": "[encoded data removed]",
      "text/plain": [
       "<Figure size 432x288 with 1 Axes>"
      ]
     },
     "metadata": {
      "needs_background": "light"
     },
     "output_type": "display_data"
    }
   ],
   "source": [
    "# We preprocess the image to fit your algorithm.\n",
    "\n",
    "img = Image.open(\"C://Users//Maged Helmy//Desktop//youTube//data_1//archive//images//027.Shiny_Cowbird//Shiny_Cowbird_0001_480522861.jpg\")\n",
    "new_img = img.resize((64, 64))\n",
    "np_array = np.asarray(new_img)\n",
    "\n",
    "my_image_flatten = np_array/255.\n",
    "my_image = my_image_flatten.reshape(1, -1).T\n",
    "\n",
    "my_predicted_image = predict(d[\"w\"], d[\"b\"], my_image)\n",
    "\n",
    "plt.imshow(my_image_flatten)\n",
    "print(\"y = \" + str(np.squeeze(my_predicted_image)) + \", your algorithm predicts a \\\"\" + classes[int(np.squeeze(my_predicted_image)),] +  \"\\\" picture.\")"
   ]
  },
  {
   "cell_type": "code",
   "execution_count": null,
   "metadata": {},
   "outputs": [],
   "source": []
  }
 ],
 "metadata": {
  "kernelspec": {
   "display_name": "Python 3",
   "language": "python",
   "name": "python3"
  },
  "language_info": {
   "codemirror_mode": {
    "name": "ipython",
    "version": 3
   },
   "file_extension": ".py",
   "mimetype": "text/x-python",
   "name": "python",
   "nbconvert_exporter": "python",
   "pygments_lexer": "ipython3",
   "version": "3.7.4"
  }
 },
 "nbformat": 4,
 "nbformat_minor": 2
}
